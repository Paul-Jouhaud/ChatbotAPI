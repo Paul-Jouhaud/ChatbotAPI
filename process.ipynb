{
  "cells": [
    {
      "cell_type": "markdown",
      "source": [
        "# Building a chatbot"
      ],
      "metadata": {}
    },
    {
      "cell_type": "code",
      "source": [
        "$ mkdir backend\n",
        "$ cd backend\n",
        "$ virtualenv env\n",
        "$ source env/bin/activate\n",
        "$ pip install django djangorestframework\n",
        "$ django-admin.py startproject chatbot_api\n",
        "$ cd chatbot_api\n",
        "$ python manage.py startapp message"
      ],
      "outputs": [],
      "execution_count": null,
      "metadata": {
        "collapsed": false,
        "outputHidden": false,
        "inputHidden": false
      }
    },
    {
      "cell_type": "markdown",
      "source": [
        "When it's done, we need to add Django Rest Framework to the installed apps parameter of our project, in chatbot_api/chatbot_api/settings.py :"
      ],
      "metadata": {}
    },
    {
      "cell_type": "code",
      "source": [
        "# chatbot_api/chatbot_api/settings.py\n",
        "\n",
        "INSTALLED_APPS = (\n",
        "    ...\n",
        "    'rest_framework',\n",
        "    'Message.apps.MessageConfig',\n",
        ")"
      ],
      "outputs": [],
      "execution_count": null,
      "metadata": {
        "collapsed": false,
        "outputHidden": false,
        "inputHidden": false
      }
    },
    {
      "cell_type": "code",
      "source": [
        "$ python manage.py migrate\n",
        "$ python manage.py runserver"
      ],
      "outputs": [],
      "execution_count": null,
      "metadata": {
        "collapsed": false,
        "outputHidden": false,
        "inputHidden": false
      }
    },
    {
      "cell_type": "markdown",
      "source": [
        "Now we can create a model, it's the class of our object. Here we want to store messages including some text, the firstname of the user and the date of creation."
      ],
      "metadata": {}
    },
    {
      "cell_type": "code",
      "source": [
        "# chatbot_api/message/models.py\n",
        "\n",
        "from django.db import models\n",
        "\n",
        "class Message(models.Model):\n",
        "    created = models.DateTimeField(auto_now=True)\n",
        "    text = models.TextField()\n",
        "    firstname = models.CharField(max_length=128, default=\"anonymous\")\n"
      ],
      "outputs": [],
      "execution_count": null,
      "metadata": {
        "collapsed": false,
        "outputHidden": false,
        "inputHidden": false
      }
    },
    {
      "cell_type": "code",
      "source": [
        "$ python manage.py migrate"
      ],
      "outputs": [],
      "execution_count": null,
      "metadata": {
        "collapsed": false,
        "outputHidden": false,
        "inputHidden": false
      }
    },
    {
      "cell_type": "markdown",
      "source": [
        "When you receive data on the server, you want to make sure that its correct. Django let us create a serializer, it will read the data received from a request, and translate it as a model. It will also be able to check if the data is valid and serialize samples coming from the dataset to be sent back to the frontend."
      ],
      "metadata": {}
    },
    {
      "cell_type": "code",
      "source": [
        "# chatbot_api/message/serializers.py\n",
        "\n",
        "from rest_framework import serializers\n",
        "from message.models import Message\n",
        "\n",
        "class MessageSerializer(serializers.ModelSerializer):\n",
        "    class Meta:\n",
        "        model = Message \n",
        "        fields = ('text', 'firstname')\n"
      ],
      "outputs": [],
      "execution_count": null,
      "metadata": {
        "collapsed": false,
        "outputHidden": false,
        "inputHidden": false
      }
    },
    {
      "cell_type": "markdown",
      "source": [
        "Good news, we can now create an API view. It's the API interface of a model.\n",
        "\nOurs will be fairly simple, we only want to be able to receive messages, one by one, from the front-end."
      ],
      "metadata": {}
    },
    {
      "cell_type": "code",
      "source": [
        "# chatbot_api/message/views.py\n",
        "\n",
        "from message.models import Message\n",
        "from message.serializers import MessageSerializer\n",
        "from rest_framework.views import APIView\n",
        "from rest_framework.response import Response\n",
        "from rest_framework import status\n",
        "\n",
        "class MessageView(APIView):\n",
        "    def post(self, request, format=None):\n",
        "        serializer = MessageSerializer(data=request.data)\n",
        "        if serializer.is_valid():\n",
        "            serializer.save()             \n",
        "            return Response({\"speech_answer\": \"J'ai bien reçu ton message.\"}, status=status.HTTP_200_OK)\n",
        "        return Response(serializer.errors, status=status.HTTP_400_BAD_REQUEST)\n"
      ],
      "outputs": [],
      "execution_count": null,
      "metadata": {
        "collapsed": false,
        "outputHidden": false,
        "inputHidden": false
      }
    },
    {
      "cell_type": "markdown",
      "source": [
        "Once we have our view, we want to actually be able to interact with that view. So we have to register it, to add it to our list of urls."
      ],
      "metadata": {}
    },
    {
      "cell_type": "code",
      "source": [
        "# chatbot_api/chatbot_api/urls.py\n",
        "\n",
        "...\n",
        "from message.views import MessageView\n",
        "\n",
        "urlpatterns = [\n",
        "    ...\n",
        "    url(r'^message/$', MessageView.as_view()),\n",
        "]\n"
      ],
      "outputs": [],
      "execution_count": null,
      "metadata": {
        "collapsed": false,
        "outputHidden": false,
        "inputHidden": false
      }
    },
    {
      "cell_type": "markdown",
      "source": [
        "We're almost done. If you try to run the server, you'll see that it doesn't respond anything intersting. There's no chatbot right now.\n",
        "\n",
        "Let's start an agent on DialogFlow: https://console.dialogflow.com/\n",
        "\nNext, we need to build a method that is going to call Dialogflow whenever you receive something. Use your own client key in that method."
      ],
      "metadata": {}
    },
    {
      "cell_type": "code",
      "source": [
        "# chatbot_api/message/helpers/dialogflow.py\n",
        "\n",
        "import requests\n",
        "\n",
        "def query_dialogflow(message):\n",
        "    client_key = \"<CLIENT_KEY>\"\n",
        "    headers = {\"Authorization\": \"Bearer \" + client_key}  \n",
        "    payload = {\"lang\": \"fr\", \"query\": message, \"v\":20150910, \"sessionId\":1}\n",
        "    r = requests.get('https://api.dialogflow.com/v1/query', params=payload, headers=headers)\n",
        "    return r\n"
      ],
      "outputs": [],
      "execution_count": null,
      "metadata": {
        "collapsed": false,
        "outputHidden": false,
        "inputHidden": false
      }
    },
    {
      "cell_type": "markdown",
      "source": [
        "Let's update our view to use that method."
      ],
      "metadata": {}
    },
    {
      "cell_type": "code",
      "source": [
        "# chatbot_api/message/views.py\n",
        "\n",
        "from message.models import Message\n",
        "from message.serializers import MessageSerializer\n",
        "from rest_framework.views import APIView\n",
        "from rest_framework.response import Response\n",
        "from rest_framework import status\n",
        "from message.helpers.dialogflow import query_dialogflow\n",
        "\n",
        "class MessageView(APIView):\n",
        "    def post(self, request, format=None):\n",
        "        serializer = MessageSerializer(data=request.data)\n",
        "        if serializer.is_valid():\n",
        "            serializer.save()\n",
        "            r = query_dialogflow(serializer.data.get('text'))            \n",
        "            json_response = r.json()\n",
        "            response = json_response.get('result', {}).get(\"fulfillment\", {}).get(\"speech\", \"Je n'ai pas compris...\")              \n",
        "            return Response({\"speech_answer\": response}, status=status.HTTP_200_OK)\n",
        "        return Response(serializer.errors, status=status.HTTP_400_BAD_REQUEST)\n"
      ],
      "outputs": [],
      "execution_count": null,
      "metadata": {
        "collapsed": false,
        "outputHidden": false,
        "inputHidden": false
      }
    },
    {
      "cell_type": "markdown",
      "source": [
        "Et voilà !\n",
        "\nLet's run the server one last time."
      ],
      "metadata": {}
    },
    {
      "cell_type": "code",
      "source": [
        "$ python manage.py runserver"
      ],
      "outputs": [],
      "execution_count": null,
      "metadata": {
        "collapsed": false,
        "outputHidden": false,
        "inputHidden": false
      }
    }
  ],
  "metadata": {
    "kernelspec": {
      "name": "python3",
      "language": "python",
      "display_name": "Python 3"
    },
    "kernel_info": {
      "name": "python3"
    },
    "language_info": {
      "file_extension": ".py",
      "codemirror_mode": {
        "version": 3,
        "name": "ipython"
      },
      "version": "3.5.2",
      "mimetype": "text/x-python",
      "nbconvert_exporter": "python",
      "name": "python",
      "pygments_lexer": "ipython3"
    },
    "nteract": {
      "version": "0.4.3"
    }
  },
  "nbformat": 4,
  "nbformat_minor": 4
}